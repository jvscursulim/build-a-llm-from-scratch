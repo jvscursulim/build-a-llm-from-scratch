{
 "cells": [
  {
   "cell_type": "markdown",
   "id": "b1c1a6ef",
   "metadata": {},
   "source": [
    "# Chapter 3 - Coding Attention Mechanisms"
   ]
  },
  {
   "cell_type": "code",
   "execution_count": null,
   "id": "edda50bd",
   "metadata": {
    "vscode": {
     "languageId": "plaintext"
    }
   },
   "outputs": [],
   "source": []
  }
 ],
 "metadata": {
  "language_info": {
   "name": "python"
  }
 },
 "nbformat": 4,
 "nbformat_minor": 5
}
